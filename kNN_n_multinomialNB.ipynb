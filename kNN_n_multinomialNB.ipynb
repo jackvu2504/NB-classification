{
 "cells": [
  {
   "cell_type": "code",
   "execution_count": 49,
   "metadata": {},
   "outputs": [],
   "source": [
    "import pandas as pd\n",
    "import numpy as np"
   ]
  },
  {
   "cell_type": "code",
   "execution_count": 50,
   "metadata": {},
   "outputs": [],
   "source": [
    "df = pd.read_csv('https://archive.ics.uci.edu/ml/machine-learning-databases/abalone/abalone.data')"
   ]
  },
  {
   "cell_type": "code",
   "execution_count": 51,
   "metadata": {},
   "outputs": [],
   "source": [
    "df.columns = [\"sex\",\n",
    "\"length\",\n",
    "\"diameter\",\n",
    "\"height\",\n",
    "\"whole-weight\",\n",
    "\"shucked-weight\",\n",
    "\"viscera-weight\",\n",
    "\"shell-weight\",\n",
    "\"rings\",\n",
    "]"
   ]
  },
  {
   "cell_type": "code",
   "execution_count": 52,
   "metadata": {},
   "outputs": [
    {
     "data": {
      "text/html": [
       "<div>\n",
       "<style scoped>\n",
       "    .dataframe tbody tr th:only-of-type {\n",
       "        vertical-align: middle;\n",
       "    }\n",
       "\n",
       "    .dataframe tbody tr th {\n",
       "        vertical-align: top;\n",
       "    }\n",
       "\n",
       "    .dataframe thead th {\n",
       "        text-align: right;\n",
       "    }\n",
       "</style>\n",
       "<table border=\"1\" class=\"dataframe\">\n",
       "  <thead>\n",
       "    <tr style=\"text-align: right;\">\n",
       "      <th></th>\n",
       "      <th>sex</th>\n",
       "      <th>length</th>\n",
       "      <th>diameter</th>\n",
       "      <th>height</th>\n",
       "      <th>whole-weight</th>\n",
       "      <th>shucked-weight</th>\n",
       "      <th>viscera-weight</th>\n",
       "      <th>shell-weight</th>\n",
       "      <th>rings</th>\n",
       "    </tr>\n",
       "  </thead>\n",
       "  <tbody>\n",
       "    <tr>\n",
       "      <th>0</th>\n",
       "      <td>M</td>\n",
       "      <td>0.350</td>\n",
       "      <td>0.265</td>\n",
       "      <td>0.090</td>\n",
       "      <td>0.2255</td>\n",
       "      <td>0.0995</td>\n",
       "      <td>0.0485</td>\n",
       "      <td>0.070</td>\n",
       "      <td>7</td>\n",
       "    </tr>\n",
       "    <tr>\n",
       "      <th>1</th>\n",
       "      <td>F</td>\n",
       "      <td>0.530</td>\n",
       "      <td>0.420</td>\n",
       "      <td>0.135</td>\n",
       "      <td>0.6770</td>\n",
       "      <td>0.2565</td>\n",
       "      <td>0.1415</td>\n",
       "      <td>0.210</td>\n",
       "      <td>9</td>\n",
       "    </tr>\n",
       "    <tr>\n",
       "      <th>2</th>\n",
       "      <td>M</td>\n",
       "      <td>0.440</td>\n",
       "      <td>0.365</td>\n",
       "      <td>0.125</td>\n",
       "      <td>0.5160</td>\n",
       "      <td>0.2155</td>\n",
       "      <td>0.1140</td>\n",
       "      <td>0.155</td>\n",
       "      <td>10</td>\n",
       "    </tr>\n",
       "    <tr>\n",
       "      <th>3</th>\n",
       "      <td>I</td>\n",
       "      <td>0.330</td>\n",
       "      <td>0.255</td>\n",
       "      <td>0.080</td>\n",
       "      <td>0.2050</td>\n",
       "      <td>0.0895</td>\n",
       "      <td>0.0395</td>\n",
       "      <td>0.055</td>\n",
       "      <td>7</td>\n",
       "    </tr>\n",
       "    <tr>\n",
       "      <th>4</th>\n",
       "      <td>I</td>\n",
       "      <td>0.425</td>\n",
       "      <td>0.300</td>\n",
       "      <td>0.095</td>\n",
       "      <td>0.3515</td>\n",
       "      <td>0.1410</td>\n",
       "      <td>0.0775</td>\n",
       "      <td>0.120</td>\n",
       "      <td>8</td>\n",
       "    </tr>\n",
       "    <tr>\n",
       "      <th>5</th>\n",
       "      <td>F</td>\n",
       "      <td>0.530</td>\n",
       "      <td>0.415</td>\n",
       "      <td>0.150</td>\n",
       "      <td>0.7775</td>\n",
       "      <td>0.2370</td>\n",
       "      <td>0.1415</td>\n",
       "      <td>0.330</td>\n",
       "      <td>20</td>\n",
       "    </tr>\n",
       "    <tr>\n",
       "      <th>6</th>\n",
       "      <td>F</td>\n",
       "      <td>0.545</td>\n",
       "      <td>0.425</td>\n",
       "      <td>0.125</td>\n",
       "      <td>0.7680</td>\n",
       "      <td>0.2940</td>\n",
       "      <td>0.1495</td>\n",
       "      <td>0.260</td>\n",
       "      <td>16</td>\n",
       "    </tr>\n",
       "    <tr>\n",
       "      <th>7</th>\n",
       "      <td>M</td>\n",
       "      <td>0.475</td>\n",
       "      <td>0.370</td>\n",
       "      <td>0.125</td>\n",
       "      <td>0.5095</td>\n",
       "      <td>0.2165</td>\n",
       "      <td>0.1125</td>\n",
       "      <td>0.165</td>\n",
       "      <td>9</td>\n",
       "    </tr>\n",
       "    <tr>\n",
       "      <th>8</th>\n",
       "      <td>F</td>\n",
       "      <td>0.550</td>\n",
       "      <td>0.440</td>\n",
       "      <td>0.150</td>\n",
       "      <td>0.8945</td>\n",
       "      <td>0.3145</td>\n",
       "      <td>0.1510</td>\n",
       "      <td>0.320</td>\n",
       "      <td>19</td>\n",
       "    </tr>\n",
       "    <tr>\n",
       "      <th>9</th>\n",
       "      <td>F</td>\n",
       "      <td>0.525</td>\n",
       "      <td>0.380</td>\n",
       "      <td>0.140</td>\n",
       "      <td>0.6065</td>\n",
       "      <td>0.1940</td>\n",
       "      <td>0.1475</td>\n",
       "      <td>0.210</td>\n",
       "      <td>14</td>\n",
       "    </tr>\n",
       "  </tbody>\n",
       "</table>\n",
       "</div>"
      ],
      "text/plain": [
       "  sex  length  diameter  height  whole-weight  shucked-weight  viscera-weight  \\\n",
       "0   M   0.350     0.265   0.090        0.2255          0.0995          0.0485   \n",
       "1   F   0.530     0.420   0.135        0.6770          0.2565          0.1415   \n",
       "2   M   0.440     0.365   0.125        0.5160          0.2155          0.1140   \n",
       "3   I   0.330     0.255   0.080        0.2050          0.0895          0.0395   \n",
       "4   I   0.425     0.300   0.095        0.3515          0.1410          0.0775   \n",
       "5   F   0.530     0.415   0.150        0.7775          0.2370          0.1415   \n",
       "6   F   0.545     0.425   0.125        0.7680          0.2940          0.1495   \n",
       "7   M   0.475     0.370   0.125        0.5095          0.2165          0.1125   \n",
       "8   F   0.550     0.440   0.150        0.8945          0.3145          0.1510   \n",
       "9   F   0.525     0.380   0.140        0.6065          0.1940          0.1475   \n",
       "\n",
       "   shell-weight  rings  \n",
       "0         0.070      7  \n",
       "1         0.210      9  \n",
       "2         0.155     10  \n",
       "3         0.055      7  \n",
       "4         0.120      8  \n",
       "5         0.330     20  \n",
       "6         0.260     16  \n",
       "7         0.165      9  \n",
       "8         0.320     19  \n",
       "9         0.210     14  "
      ]
     },
     "execution_count": 52,
     "metadata": {},
     "output_type": "execute_result"
    }
   ],
   "source": [
    "df.head(10)"
   ]
  },
  {
   "cell_type": "code",
   "execution_count": 53,
   "metadata": {},
   "outputs": [
    {
     "name": "stdout",
     "output_type": "stream",
     "text": [
      "(4176, 9)\n"
     ]
    }
   ],
   "source": [
    "print(df.shape)"
   ]
  },
  {
   "cell_type": "code",
   "execution_count": 54,
   "metadata": {},
   "outputs": [
    {
     "name": "stdout",
     "output_type": "stream",
     "text": [
      "9     689\n",
      "10    634\n",
      "8     568\n",
      "11    487\n",
      "7     391\n",
      "12    267\n",
      "6     259\n",
      "13    203\n",
      "14    126\n",
      "5     115\n",
      "15    102\n",
      "16     67\n",
      "17     58\n",
      "4      57\n",
      "18     42\n",
      "19     32\n",
      "20     26\n",
      "3      15\n",
      "21     14\n",
      "23      9\n",
      "22      6\n",
      "27      2\n",
      "24      2\n",
      "1       1\n",
      "26      1\n",
      "29      1\n",
      "2       1\n",
      "25      1\n",
      "Name: rings, dtype: int64\n"
     ]
    }
   ],
   "source": [
    "print(df['rings'].value_counts())"
   ]
  },
  {
   "cell_type": "code",
   "execution_count": 55,
   "metadata": {},
   "outputs": [
    {
     "name": "stdout",
     "output_type": "stream",
     "text": [
      "sex                object\n",
      "length            float64\n",
      "diameter          float64\n",
      "height            float64\n",
      "whole-weight      float64\n",
      "shucked-weight    float64\n",
      "viscera-weight    float64\n",
      "shell-weight      float64\n",
      "rings               int64\n",
      "dtype: object\n"
     ]
    }
   ],
   "source": [
    "types = df.dtypes\n",
    "print(types)"
   ]
  },
  {
   "cell_type": "code",
   "execution_count": 56,
   "metadata": {},
   "outputs": [
    {
     "name": "stdout",
     "output_type": "stream",
     "text": [
      "sex               int32\n",
      "length            int64\n",
      "diameter          int64\n",
      "height            int64\n",
      "whole-weight      int64\n",
      "shucked-weight    int64\n",
      "viscera-weight    int64\n",
      "shell-weight      int64\n",
      "rings             int64\n",
      "dtype: object\n"
     ]
    }
   ],
   "source": [
    "from sklearn.preprocessing import LabelEncoder\n",
    "le = LabelEncoder()\n",
    "names = df.columns.values.tolist()\n",
    "for i in range(len(types)):\n",
    "    le.fit_transform(df[names[i]])\n",
    "    df[names[i]] = le.transform(df[names[i]])\n",
    "print(df.dtypes)"
   ]
  },
  {
   "cell_type": "code",
   "execution_count": 57,
   "metadata": {},
   "outputs": [],
   "source": [
    "X = df.values[:, :-1]\n",
    "y = df['rings']\n",
    "# print(X)\n",
    "# print(y)"
   ]
  },
  {
   "cell_type": "code",
   "execution_count": 58,
   "metadata": {},
   "outputs": [],
   "source": [
    "from sklearn.preprocessing import MinMaxScaler\n",
    "scaler = MinMaxScaler()\n",
    "scaler.fit(X)\n",
    "x_scaled = scaler.transform(X)\n",
    "# print(x_scaled[0])"
   ]
  },
  {
   "cell_type": "code",
   "execution_count": 59,
   "metadata": {},
   "outputs": [],
   "source": [
    "from sklearn.model_selection import train_test_split\n",
    "X_train, X_test, y_train, y_test = train_test_split(X, y, random_state=2, test_size=0.3)\n"
   ]
  },
  {
   "attachments": {},
   "cell_type": "markdown",
   "metadata": {},
   "source": [
    "## kNN"
   ]
  },
  {
   "cell_type": "code",
   "execution_count": 60,
   "metadata": {},
   "outputs": [
    {
     "data": {
      "text/plain": [
       "KNeighborsClassifier(n_neighbors=100)"
      ]
     },
     "execution_count": 60,
     "metadata": {},
     "output_type": "execute_result"
    }
   ],
   "source": [
    "from sklearn.neighbors import KNeighborsClassifier\n",
    "model = KNeighborsClassifier(n_neighbors=100)\n",
    "model.fit(X_train, y_train)"
   ]
  },
  {
   "cell_type": "code",
   "execution_count": 61,
   "metadata": {},
   "outputs": [
    {
     "name": "stderr",
     "output_type": "stream",
     "text": [
      "f:\\anaconda3\\lib\\site-packages\\sklearn\\neighbors\\_classification.py:228: FutureWarning: Unlike other reduction functions (e.g. `skew`, `kurtosis`), the default behavior of `mode` typically preserves the axis it acts along. In SciPy 1.11.0, this behavior will change: the default value of `keepdims` will become False, the `axis` over which the statistic is taken will be eliminated, and the value None will no longer be accepted. Set `keepdims` to True or False to avoid this warning.\n",
      "  mode, _ = stats.mode(_y[neigh_ind, k], axis=1)\n"
     ]
    }
   ],
   "source": [
    "y_pred = model.predict(X_test)\n",
    "# print(y_pred[0], y_test[0])\n",
    "# for i in range(len(y_pred)):\n",
    "#     print(y_pred[i], y_test[i])"
   ]
  },
  {
   "cell_type": "code",
   "execution_count": 62,
   "metadata": {},
   "outputs": [
    {
     "name": "stdout",
     "output_type": "stream",
     "text": [
      "              precision    recall  f1-score   support\n",
      "\n",
      "           2       0.00      0.00      0.00         6\n",
      "           3       0.52      0.65      0.58        17\n",
      "           4       0.58      0.35      0.43        43\n",
      "           5       0.31      0.20      0.24        87\n",
      "           6       0.34      0.48      0.39       124\n",
      "           7       0.30      0.39      0.34       163\n",
      "           8       0.25      0.40      0.31       204\n",
      "           9       0.21      0.35      0.26       175\n",
      "          10       0.26      0.26      0.26       123\n",
      "          11       0.00      0.00      0.00        78\n",
      "          12       0.00      0.00      0.00        75\n",
      "          13       0.00      0.00      0.00        41\n",
      "          14       0.00      0.00      0.00        33\n",
      "          15       0.00      0.00      0.00        18\n",
      "          16       0.00      0.00      0.00        18\n",
      "          17       0.00      0.00      0.00        15\n",
      "          18       0.00      0.00      0.00        11\n",
      "          19       0.00      0.00      0.00         8\n",
      "          20       0.00      0.00      0.00         6\n",
      "          21       0.00      0.00      0.00         2\n",
      "          22       0.00      0.00      0.00         6\n",
      "\n",
      "    accuracy                           0.27      1253\n",
      "   macro avg       0.13      0.15      0.13      1253\n",
      "weighted avg       0.22      0.27      0.23      1253\n",
      "\n"
     ]
    },
    {
     "name": "stderr",
     "output_type": "stream",
     "text": [
      "f:\\anaconda3\\lib\\site-packages\\sklearn\\metrics\\_classification.py:1318: UndefinedMetricWarning: Precision and F-score are ill-defined and being set to 0.0 in labels with no predicted samples. Use `zero_division` parameter to control this behavior.\n",
      "  _warn_prf(average, modifier, msg_start, len(result))\n",
      "f:\\anaconda3\\lib\\site-packages\\sklearn\\metrics\\_classification.py:1318: UndefinedMetricWarning: Precision and F-score are ill-defined and being set to 0.0 in labels with no predicted samples. Use `zero_division` parameter to control this behavior.\n",
      "  _warn_prf(average, modifier, msg_start, len(result))\n",
      "f:\\anaconda3\\lib\\site-packages\\sklearn\\metrics\\_classification.py:1318: UndefinedMetricWarning: Precision and F-score are ill-defined and being set to 0.0 in labels with no predicted samples. Use `zero_division` parameter to control this behavior.\n",
      "  _warn_prf(average, modifier, msg_start, len(result))\n"
     ]
    }
   ],
   "source": [
    "from sklearn import metrics\n",
    "\n",
    "print(metrics.classification_report(y_test, y_pred))"
   ]
  },
  {
   "attachments": {},
   "cell_type": "markdown",
   "metadata": {},
   "source": [
    "## multinominalNB"
   ]
  },
  {
   "cell_type": "code",
   "execution_count": 63,
   "metadata": {},
   "outputs": [],
   "source": [
    "from sklearn.naive_bayes import MultinomialNB\n",
    "mnb = MultinomialNB()\n",
    "mnb.fit(X_train, y_train)\n",
    "y_pred_mnb = mnb.predict(X_test)"
   ]
  },
  {
   "cell_type": "code",
   "execution_count": 64,
   "metadata": {},
   "outputs": [
    {
     "name": "stdout",
     "output_type": "stream",
     "text": [
      "              precision    recall  f1-score   support\n",
      "\n",
      "           1       0.00      0.00      0.00         0\n",
      "           2       0.20      0.33      0.25         6\n",
      "           3       0.20      0.53      0.29        17\n",
      "           4       0.24      0.42      0.30        43\n",
      "           5       0.20      0.31      0.24        87\n",
      "           6       0.24      0.23      0.24       124\n",
      "           7       0.28      0.28      0.28       163\n",
      "           8       0.30      0.22      0.25       204\n",
      "           9       0.30      0.12      0.17       175\n",
      "          10       0.29      0.41      0.34       123\n",
      "          11       0.13      0.04      0.06        78\n",
      "          12       0.15      0.09      0.11        75\n",
      "          13       0.08      0.02      0.04        41\n",
      "          14       0.06      0.06      0.06        33\n",
      "          15       0.15      0.33      0.21        18\n",
      "          16       0.12      0.11      0.12        18\n",
      "          17       0.10      0.07      0.08        15\n",
      "          18       0.00      0.00      0.00        11\n",
      "          19       0.08      0.12      0.10         8\n",
      "          20       0.00      0.00      0.00         6\n",
      "          21       0.00      0.00      0.00         2\n",
      "          22       0.00      0.00      0.00         6\n",
      "          24       0.00      0.00      0.00         0\n",
      "          25       0.00      0.00      0.00         0\n",
      "          26       0.00      0.00      0.00         0\n",
      "          27       0.00      0.00      0.00         0\n",
      "\n",
      "    accuracy                           0.22      1253\n",
      "   macro avg       0.12      0.14      0.12      1253\n",
      "weighted avg       0.23      0.22      0.21      1253\n",
      "\n"
     ]
    },
    {
     "name": "stderr",
     "output_type": "stream",
     "text": [
      "f:\\anaconda3\\lib\\site-packages\\sklearn\\metrics\\_classification.py:1318: UndefinedMetricWarning: Precision and F-score are ill-defined and being set to 0.0 in labels with no predicted samples. Use `zero_division` parameter to control this behavior.\n",
      "  _warn_prf(average, modifier, msg_start, len(result))\n",
      "f:\\anaconda3\\lib\\site-packages\\sklearn\\metrics\\_classification.py:1318: UndefinedMetricWarning: Recall and F-score are ill-defined and being set to 0.0 in labels with no true samples. Use `zero_division` parameter to control this behavior.\n",
      "  _warn_prf(average, modifier, msg_start, len(result))\n",
      "f:\\anaconda3\\lib\\site-packages\\sklearn\\metrics\\_classification.py:1318: UndefinedMetricWarning: Precision and F-score are ill-defined and being set to 0.0 in labels with no predicted samples. Use `zero_division` parameter to control this behavior.\n",
      "  _warn_prf(average, modifier, msg_start, len(result))\n",
      "f:\\anaconda3\\lib\\site-packages\\sklearn\\metrics\\_classification.py:1318: UndefinedMetricWarning: Recall and F-score are ill-defined and being set to 0.0 in labels with no true samples. Use `zero_division` parameter to control this behavior.\n",
      "  _warn_prf(average, modifier, msg_start, len(result))\n",
      "f:\\anaconda3\\lib\\site-packages\\sklearn\\metrics\\_classification.py:1318: UndefinedMetricWarning: Precision and F-score are ill-defined and being set to 0.0 in labels with no predicted samples. Use `zero_division` parameter to control this behavior.\n",
      "  _warn_prf(average, modifier, msg_start, len(result))\n",
      "f:\\anaconda3\\lib\\site-packages\\sklearn\\metrics\\_classification.py:1318: UndefinedMetricWarning: Recall and F-score are ill-defined and being set to 0.0 in labels with no true samples. Use `zero_division` parameter to control this behavior.\n",
      "  _warn_prf(average, modifier, msg_start, len(result))\n"
     ]
    }
   ],
   "source": [
    "print(metrics.classification_report(y_test, y_pred_mnb))\n"
   ]
  },
  {
   "attachments": {},
   "cell_type": "markdown",
   "metadata": {},
   "source": [
    "## GaussianNB"
   ]
  },
  {
   "cell_type": "code",
   "execution_count": 65,
   "metadata": {},
   "outputs": [],
   "source": [
    "from sklearn.naive_bayes import GaussianNB\n",
    "gnb2 = GaussianNB()\n",
    "gnb2.fit(X_train, y_train)\n",
    "y_pred_gnb = gnb2.predict(X_test)"
   ]
  },
  {
   "cell_type": "code",
   "execution_count": 66,
   "metadata": {},
   "outputs": [
    {
     "name": "stdout",
     "output_type": "stream",
     "text": [
      "              precision    recall  f1-score   support\n",
      "\n",
      "           2       0.33      0.83      0.48         6\n",
      "           3       0.21      0.41      0.28        17\n",
      "           4       0.28      0.49      0.36        43\n",
      "           5       0.26      0.38      0.31        87\n",
      "           6       0.25      0.27      0.26       124\n",
      "           7       0.27      0.34      0.30       163\n",
      "           8       0.24      0.24      0.24       204\n",
      "           9       0.26      0.26      0.26       175\n",
      "          10       0.27      0.35      0.30       123\n",
      "          11       0.00      0.00      0.00        78\n",
      "          12       0.00      0.00      0.00        75\n",
      "          13       0.00      0.00      0.00        41\n",
      "          14       0.00      0.00      0.00        33\n",
      "          15       0.00      0.00      0.00        18\n",
      "          16       0.00      0.00      0.00        18\n",
      "          17       0.00      0.00      0.00        15\n",
      "          18       0.00      0.00      0.00        11\n",
      "          19       0.00      0.00      0.00         8\n",
      "          20       0.00      0.00      0.00         6\n",
      "          21       0.00      0.00      0.00         2\n",
      "          22       0.00      0.00      0.00         6\n",
      "          26       0.00      0.00      0.00         0\n",
      "\n",
      "    accuracy                           0.23      1253\n",
      "   macro avg       0.11      0.16      0.13      1253\n",
      "weighted avg       0.19      0.23      0.21      1253\n",
      "\n"
     ]
    },
    {
     "name": "stderr",
     "output_type": "stream",
     "text": [
      "f:\\anaconda3\\lib\\site-packages\\sklearn\\metrics\\_classification.py:1318: UndefinedMetricWarning: Precision and F-score are ill-defined and being set to 0.0 in labels with no predicted samples. Use `zero_division` parameter to control this behavior.\n",
      "  _warn_prf(average, modifier, msg_start, len(result))\n",
      "f:\\anaconda3\\lib\\site-packages\\sklearn\\metrics\\_classification.py:1318: UndefinedMetricWarning: Recall and F-score are ill-defined and being set to 0.0 in labels with no true samples. Use `zero_division` parameter to control this behavior.\n",
      "  _warn_prf(average, modifier, msg_start, len(result))\n",
      "f:\\anaconda3\\lib\\site-packages\\sklearn\\metrics\\_classification.py:1318: UndefinedMetricWarning: Precision and F-score are ill-defined and being set to 0.0 in labels with no predicted samples. Use `zero_division` parameter to control this behavior.\n",
      "  _warn_prf(average, modifier, msg_start, len(result))\n",
      "f:\\anaconda3\\lib\\site-packages\\sklearn\\metrics\\_classification.py:1318: UndefinedMetricWarning: Recall and F-score are ill-defined and being set to 0.0 in labels with no true samples. Use `zero_division` parameter to control this behavior.\n",
      "  _warn_prf(average, modifier, msg_start, len(result))\n",
      "f:\\anaconda3\\lib\\site-packages\\sklearn\\metrics\\_classification.py:1318: UndefinedMetricWarning: Precision and F-score are ill-defined and being set to 0.0 in labels with no predicted samples. Use `zero_division` parameter to control this behavior.\n",
      "  _warn_prf(average, modifier, msg_start, len(result))\n",
      "f:\\anaconda3\\lib\\site-packages\\sklearn\\metrics\\_classification.py:1318: UndefinedMetricWarning: Recall and F-score are ill-defined and being set to 0.0 in labels with no true samples. Use `zero_division` parameter to control this behavior.\n",
      "  _warn_prf(average, modifier, msg_start, len(result))\n"
     ]
    }
   ],
   "source": [
    "print(metrics.classification_report(y_test, y_pred_gnb))\n"
   ]
  },
  {
   "attachments": {},
   "cell_type": "markdown",
   "metadata": {},
   "source": [
    "##Bernoulli"
   ]
  },
  {
   "cell_type": "code",
   "execution_count": 67,
   "metadata": {},
   "outputs": [],
   "source": [
    "from sklearn.naive_bayes import BernoulliNB\n",
    "bnb = BernoulliNB()\n",
    "bnb.fit(X_train, y_train)\n",
    "y_pred_bnb = bnb.predict(X_test)\n"
   ]
  },
  {
   "cell_type": "code",
   "execution_count": 68,
   "metadata": {},
   "outputs": [
    {
     "name": "stdout",
     "output_type": "stream",
     "text": [
      "              precision    recall  f1-score   support\n",
      "\n",
      "           2       0.00      0.00      0.00         6\n",
      "           3       0.00      0.00      0.00        17\n",
      "           4       0.00      0.00      0.00        43\n",
      "           5       0.00      0.00      0.00        87\n",
      "           6       0.00      0.00      0.00       124\n",
      "           7       0.00      0.00      0.00       163\n",
      "           8       0.16      0.66      0.25       204\n",
      "           9       0.20      0.44      0.27       175\n",
      "          10       0.00      0.00      0.00       123\n",
      "          11       0.00      0.00      0.00        78\n",
      "          12       0.00      0.00      0.00        75\n",
      "          13       0.00      0.00      0.00        41\n",
      "          14       0.00      0.00      0.00        33\n",
      "          15       0.00      0.00      0.00        18\n",
      "          16       0.00      0.00      0.00        18\n",
      "          17       0.00      0.00      0.00        15\n",
      "          18       0.00      0.00      0.00        11\n",
      "          19       0.00      0.00      0.00         8\n",
      "          20       0.00      0.00      0.00         6\n",
      "          21       0.00      0.00      0.00         2\n",
      "          22       0.00      0.00      0.00         6\n",
      "\n",
      "    accuracy                           0.17      1253\n",
      "   macro avg       0.02      0.05      0.02      1253\n",
      "weighted avg       0.05      0.17      0.08      1253\n",
      "\n"
     ]
    },
    {
     "name": "stderr",
     "output_type": "stream",
     "text": [
      "f:\\anaconda3\\lib\\site-packages\\sklearn\\metrics\\_classification.py:1318: UndefinedMetricWarning: Precision and F-score are ill-defined and being set to 0.0 in labels with no predicted samples. Use `zero_division` parameter to control this behavior.\n",
      "  _warn_prf(average, modifier, msg_start, len(result))\n",
      "f:\\anaconda3\\lib\\site-packages\\sklearn\\metrics\\_classification.py:1318: UndefinedMetricWarning: Precision and F-score are ill-defined and being set to 0.0 in labels with no predicted samples. Use `zero_division` parameter to control this behavior.\n",
      "  _warn_prf(average, modifier, msg_start, len(result))\n",
      "f:\\anaconda3\\lib\\site-packages\\sklearn\\metrics\\_classification.py:1318: UndefinedMetricWarning: Precision and F-score are ill-defined and being set to 0.0 in labels with no predicted samples. Use `zero_division` parameter to control this behavior.\n",
      "  _warn_prf(average, modifier, msg_start, len(result))\n"
     ]
    }
   ],
   "source": [
    "print(metrics.classification_report(y_test, y_pred_bnb))"
   ]
  },
  {
   "cell_type": "code",
   "execution_count": 69,
   "metadata": {},
   "outputs": [],
   "source": [
    "from sklearn.naive_bayes import ComplementNB\n",
    "cnb = ComplementNB()\n",
    "cnb.fit(X_train, y_train)\n",
    "y_pred_cnb = cnb.predict(X_test)\n"
   ]
  },
  {
   "cell_type": "code",
   "execution_count": 70,
   "metadata": {},
   "outputs": [
    {
     "name": "stdout",
     "output_type": "stream",
     "text": [
      "              precision    recall  f1-score   support\n",
      "\n",
      "           2       0.00      0.00      0.00         6\n",
      "           3       0.52      0.65      0.58        17\n",
      "           4       0.58      0.35      0.43        43\n",
      "           5       0.31      0.20      0.24        87\n",
      "           6       0.34      0.48      0.39       124\n",
      "           7       0.30      0.39      0.34       163\n",
      "           8       0.25      0.40      0.31       204\n",
      "           9       0.21      0.35      0.26       175\n",
      "          10       0.26      0.26      0.26       123\n",
      "          11       0.00      0.00      0.00        78\n",
      "          12       0.00      0.00      0.00        75\n",
      "          13       0.00      0.00      0.00        41\n",
      "          14       0.00      0.00      0.00        33\n",
      "          15       0.00      0.00      0.00        18\n",
      "          16       0.00      0.00      0.00        18\n",
      "          17       0.00      0.00      0.00        15\n",
      "          18       0.00      0.00      0.00        11\n",
      "          19       0.00      0.00      0.00         8\n",
      "          20       0.00      0.00      0.00         6\n",
      "          21       0.00      0.00      0.00         2\n",
      "          22       0.00      0.00      0.00         6\n",
      "\n",
      "    accuracy                           0.27      1253\n",
      "   macro avg       0.13      0.15      0.13      1253\n",
      "weighted avg       0.22      0.27      0.23      1253\n",
      "\n"
     ]
    },
    {
     "name": "stderr",
     "output_type": "stream",
     "text": [
      "f:\\anaconda3\\lib\\site-packages\\sklearn\\metrics\\_classification.py:1318: UndefinedMetricWarning: Precision and F-score are ill-defined and being set to 0.0 in labels with no predicted samples. Use `zero_division` parameter to control this behavior.\n",
      "  _warn_prf(average, modifier, msg_start, len(result))\n",
      "f:\\anaconda3\\lib\\site-packages\\sklearn\\metrics\\_classification.py:1318: UndefinedMetricWarning: Precision and F-score are ill-defined and being set to 0.0 in labels with no predicted samples. Use `zero_division` parameter to control this behavior.\n",
      "  _warn_prf(average, modifier, msg_start, len(result))\n",
      "f:\\anaconda3\\lib\\site-packages\\sklearn\\metrics\\_classification.py:1318: UndefinedMetricWarning: Precision and F-score are ill-defined and being set to 0.0 in labels with no predicted samples. Use `zero_division` parameter to control this behavior.\n",
      "  _warn_prf(average, modifier, msg_start, len(result))\n"
     ]
    }
   ],
   "source": [
    "print(metrics.classification_report(y_test, y_pred))"
   ]
  },
  {
   "cell_type": "code",
   "execution_count": 71,
   "metadata": {},
   "outputs": [],
   "source": [
    "from sklearn.naive_bayes import CategoricalNB\n",
    "catNB = CategoricalNB()\n",
    "catNB.fit(X_test, y_test)\n",
    "y_pred_catNB = catNB.predict(X_test)"
   ]
  },
  {
   "cell_type": "code",
   "execution_count": 72,
   "metadata": {},
   "outputs": [
    {
     "name": "stdout",
     "output_type": "stream",
     "text": [
      "              precision    recall  f1-score   support\n",
      "\n",
      "           2       1.00      1.00      1.00         6\n",
      "           3       1.00      0.82      0.90        17\n",
      "           4       0.80      0.86      0.83        43\n",
      "           5       0.73      0.87      0.80        87\n",
      "           6       0.70      0.78      0.74       124\n",
      "           7       0.70      0.80      0.75       163\n",
      "           8       0.80      0.84      0.82       204\n",
      "           9       0.74      0.89      0.81       175\n",
      "          10       0.81      0.85      0.83       123\n",
      "          11       0.91      0.81      0.86        78\n",
      "          12       0.97      0.77      0.86        75\n",
      "          13       1.00      0.71      0.83        41\n",
      "          14       1.00      0.64      0.78        33\n",
      "          15       1.00      0.33      0.50        18\n",
      "          16       1.00      0.39      0.56        18\n",
      "          17       1.00      0.40      0.57        15\n",
      "          18       1.00      0.27      0.43        11\n",
      "          19       1.00      0.12      0.22         8\n",
      "          20       1.00      0.33      0.50         6\n",
      "          21       0.00      0.00      0.00         2\n",
      "          22       0.00      0.00      0.00         6\n",
      "\n",
      "    accuracy                           0.79      1253\n",
      "   macro avg       0.82      0.60      0.65      1253\n",
      "weighted avg       0.80      0.79      0.78      1253\n",
      "\n"
     ]
    },
    {
     "name": "stderr",
     "output_type": "stream",
     "text": [
      "f:\\anaconda3\\lib\\site-packages\\sklearn\\metrics\\_classification.py:1318: UndefinedMetricWarning: Precision and F-score are ill-defined and being set to 0.0 in labels with no predicted samples. Use `zero_division` parameter to control this behavior.\n",
      "  _warn_prf(average, modifier, msg_start, len(result))\n",
      "f:\\anaconda3\\lib\\site-packages\\sklearn\\metrics\\_classification.py:1318: UndefinedMetricWarning: Precision and F-score are ill-defined and being set to 0.0 in labels with no predicted samples. Use `zero_division` parameter to control this behavior.\n",
      "  _warn_prf(average, modifier, msg_start, len(result))\n",
      "f:\\anaconda3\\lib\\site-packages\\sklearn\\metrics\\_classification.py:1318: UndefinedMetricWarning: Precision and F-score are ill-defined and being set to 0.0 in labels with no predicted samples. Use `zero_division` parameter to control this behavior.\n",
      "  _warn_prf(average, modifier, msg_start, len(result))\n"
     ]
    }
   ],
   "source": [
    "print(metrics.classification_report(y_test, y_pred_catNB))"
   ]
  }
 ],
 "metadata": {
  "kernelspec": {
   "display_name": "base",
   "language": "python",
   "name": "python3"
  },
  "language_info": {
   "codemirror_mode": {
    "name": "ipython",
    "version": 3
   },
   "file_extension": ".py",
   "mimetype": "text/x-python",
   "name": "python",
   "nbconvert_exporter": "python",
   "pygments_lexer": "ipython3",
   "version": "3.9.13"
  },
  "orig_nbformat": 4,
  "vscode": {
   "interpreter": {
    "hash": "a4df7a6600e22bae99e6e8f837be5af686fd7a404512ca9c2620376f38fe7d31"
   }
  }
 },
 "nbformat": 4,
 "nbformat_minor": 2
}
